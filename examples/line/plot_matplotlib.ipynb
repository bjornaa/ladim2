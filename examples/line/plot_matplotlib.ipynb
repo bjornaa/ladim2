{
 "cells": [
  {
   "cell_type": "markdown",
   "metadata": {},
   "source": [
    "Plot the particle distribution with matplotlib, with increasing complexity."
   ]
  },
  {
   "cell_type": "code",
   "execution_count": null,
   "metadata": {},
   "outputs": [],
   "source": [
    "import numpy as np\n",
    "import matplotlib.pyplot as plt\n",
    "import xarray as xr\n",
    "from postladim import ParticleFile"
   ]
  },
  {
   "cell_type": "markdown",
   "metadata": {},
   "source": [
    "### Settings"
   ]
  },
  {
   "cell_type": "code",
   "execution_count": null,
   "metadata": {},
   "outputs": [],
   "source": [
    "# Files\n",
    "particle_file = \"out.nc\"\n",
    "grid_file = \"../data/ocean_avg_0014.nc\"\n",
    "\n",
    "# Time step\n",
    "t = 48  # 6 days (3 hours between output)"
   ]
  },
  {
   "cell_type": "markdown",
   "metadata": {},
   "source": [
    "### Read particle position"
   ]
  },
  {
   "cell_type": "code",
   "execution_count": null,
   "metadata": {},
   "outputs": [],
   "source": [
    "# Read the particle_file\n",
    "\n",
    "with ParticleFile(particle_file) as pf:\n",
    "    X, Y = pf.position(t)"
   ]
  },
  {
   "cell_type": "markdown",
   "metadata": {},
   "source": [
    "### Mininal plot"
   ]
  },
  {
   "cell_type": "code",
   "execution_count": null,
   "metadata": {},
   "outputs": [],
   "source": [
    "plt.plot(X, Y, \"r.\");"
   ]
  },
  {
   "cell_type": "markdown",
   "metadata": {},
   "source": [
    "Use the grid file to add land mask and lat/lon lines. \n",
    "The particles are in the northern North Sea.\n",
    "Great Britain looks a bit small compared to Denmark and South-Western Norway.\n",
    "This is due to the unusual map projection used by ROMS to produce the current field.\n",
    "The map projection is orthogonal, so the shape of the land masses is correct, provided matplotlib don't mess up the aspect ratio."
   ]
  },
  {
   "cell_type": "code",
   "execution_count": null,
   "metadata": {},
   "outputs": [],
   "source": [
    "grid = xr.load_dataset(grid_file)"
   ]
  },
  {
   "cell_type": "code",
   "execution_count": null,
   "metadata": {},
   "outputs": [],
   "source": [
    "# Land mask\n",
    "grid.mask_rho.plot()\n",
    "# Graticule\n",
    "grid.lon_rho.plot.contour(\n",
    "    levels=range(-18, 14, 2), linewidths=0.5, linestyles=\"-\", colors=\"grey\"\n",
    ")\n",
    "grid.lon_rho.plot.contour(\n",
    "    levels=range(-10, 11, 10), linewidths=1.0, linestyles=\"-\", colors=\"k\"\n",
    ")\n",
    "grid.lat_rho.plot.contour(\n",
    "    levels=range(50, 66), linewidths=0.5, linestyles=\"-\", colors=\"grey\"\n",
    ")\n",
    "grid.lat_rho.plot.contour(\n",
    "    levels=range(50, 66, 5), linewidths=1.0, linestyles=\"-\", colors=\"k\"\n",
    ")\n",
    "# Particles\n",
    "plt.plot(X, Y, \"r.\")\n",
    "# Aspect ratio\n",
    "plt.axis(\"image\");"
   ]
  },
  {
   "cell_type": "markdown",
   "metadata": {},
   "source": [
    "Zoom in on a subgrid.\n",
    "Add the bottom topography, also from the grid file.\n",
    "Make the colour map for the land mask transparent at sea.\n",
    "Put a time stamp in the title."
   ]
  },
  {
   "cell_type": "code",
   "execution_count": null,
   "metadata": {},
   "outputs": [],
   "source": [
    "# Define subgrid\n",
    "i0, i1, j0, j1 = 55, 150, 55, 145\n",
    "\n",
    "# Cell centers and cell boundaries\n",
    "Xc = np.arange(i0, i1)\n",
    "Yc = np.arange(j0, j1)\n",
    "Xb = np.arange(i0 - 0.5, i1)\n",
    "Yb = np.arange(j0 - 0.5, j1)"
   ]
  },
  {
   "cell_type": "code",
   "execution_count": null,
   "metadata": {},
   "outputs": [],
   "source": [
    "subgrid = grid.sel(xi_rho=slice(i0, i1), eta_rho=slice(j0, j1))\n",
    "H = subgrid.h\n",
    "M = subgrid.mask_rho"
   ]
  },
  {
   "cell_type": "code",
   "execution_count": null,
   "metadata": {},
   "outputs": [],
   "source": [
    "# Bottom topography background\n",
    "plt.contourf(Xc, Yc, H, cmap=\"Blues\")\n",
    "\n",
    "# Landmask\n",
    "land_colour = plt.matplotlib.colors.ListedColormap([0.2, 0.6, 0.4])\n",
    "M = np.ma.masked_where(M > 0, M)\n",
    "plt.pcolormesh(Xb, Yb, M, cmap=land_colour)\n",
    "\n",
    "# Particles\n",
    "plt.plot(X, Y, \"r.\")\n",
    "\n",
    "# Time stamp\n",
    "plt.title(pf.ftime(t))\n",
    "plt.axis(\"image\");"
   ]
  },
  {
   "cell_type": "markdown",
   "metadata": {},
   "source": [
    "A more complete plot, with lon/lat lines and without the grid labels."
   ]
  },
  {
   "cell_type": "markdown",
   "metadata": {},
   "source": [
    "##### "
   ]
  },
  {
   "cell_type": "code",
   "execution_count": null,
   "metadata": {
    "scrolled": true
   },
   "outputs": [],
   "source": [
    "# Bottom topography background\n",
    "depth_levels = [25, 50, 100, 250, 500, 1000, 2500]\n",
    "plt.contourf(Xc, Yc, np.log(subgrid.h), levels=np.log(depth_levels), cmap=\"Blues\")\n",
    "\n",
    "# Landmask\n",
    "land_colour = plt.matplotlib.colors.ListedColormap([0.2, 0.6, 0.4])\n",
    "M = np.ma.masked_where(subgrid.mask_rho > 0, subgrid.mask_rho)\n",
    "plt.pcolormesh(Xb, Yb, M, cmap=land_colour)\n",
    "\n",
    "# Graticule\n",
    "plt.contour(\n",
    "    Xc,\n",
    "    Yc,\n",
    "    subgrid.lon_rho,\n",
    "    levels=range(-14, 10, 2),\n",
    "    linewidths=0.5,\n",
    "    linestyles=\"-\",\n",
    "    colors=\"grey\",\n",
    ")\n",
    "plt.contour(\n",
    "    Xc,\n",
    "    Yc,\n",
    "    subgrid.lat_rho,\n",
    "    levels=range(55, 63),\n",
    "    linewidths=0.5,\n",
    "    linestyles=\"-\",\n",
    "    colors=\"grey\",\n",
    ")\n",
    "\n",
    "# Particles\n",
    "plt.plot(X, Y, \"r.\")\n",
    "\n",
    "# Time stamp\n",
    "plt.title(pf.ftime(t))\n",
    "\n",
    "# Strip grid indices\n",
    "ax = plt.gca()\n",
    "ax.set_xticks([])\n",
    "ax.set_yticks([])\n",
    "\n",
    "# Set aspect ratio\n",
    "plt.axis(\"image\");"
   ]
  },
  {
   "cell_type": "markdown",
   "metadata": {},
   "source": [
    "\n",
    "### Use a real coastline\n",
    "\n",
    "To make the plot nicer a real coastline can be used. The script `make_coast_grid.py`\n",
    "extracts a coastline from the GSHHS data base and converts it to grid coordinates.\n",
    "The result is stored in the file `coast_grid.npy`."
   ]
  },
  {
   "cell_type": "code",
   "execution_count": null,
   "metadata": {},
   "outputs": [],
   "source": [
    "# Read the coast file\n",
    "\n",
    "coast_file = \"coast_grid.npy\"\n",
    "with open(coast_file, \"rb\") as f:\n",
    "    Xcoast = np.load(f)\n",
    "    Ycoast = np.load(f)"
   ]
  },
  {
   "cell_type": "code",
   "execution_count": null,
   "metadata": {},
   "outputs": [],
   "source": [
    "# Bottom topography background\n",
    "depth_levels = [25, 50, 100, 250, 500, 1000, 2500]\n",
    "plt.contourf(Xc, Yc, np.log(subgrid.h), levels=np.log(depth_levels), cmap=\"Blues\")\n",
    "\n",
    "# Landmask\n",
    "plt.fill(Xcoast, Ycoast, color=[0.2, 0.6, 0.4])\n",
    "\n",
    "# Graticule\n",
    "plt.contour(\n",
    "    Xc,\n",
    "    Yc,\n",
    "    subgrid.lon_rho,\n",
    "    levels=range(-14, 10, 2),\n",
    "    linewidths=0.5,\n",
    "    linestyles=\":\",\n",
    "    colors=\"black\",\n",
    ")\n",
    "plt.contour(\n",
    "    Xc,\n",
    "    Yc,\n",
    "    subgrid.lat_rho,\n",
    "    levels=range(55, 63),\n",
    "    linewidths=0.5,\n",
    "    linestyles=\":\",\n",
    "    colors=\"black\",\n",
    ")\n",
    "\n",
    "# Particles\n",
    "plt.plot(X, Y, \"r.\")\n",
    "\n",
    "# Time stamp\n",
    "plt.title(pf.ftime(t))\n",
    "\n",
    "# Strip grid indices\n",
    "ax = plt.gca()\n",
    "ax.set_xticks([])\n",
    "ax.set_yticks([])\n",
    "\n",
    "# Set aspect ratio amd restrict to the subgrid\n",
    "plt.axis(\"image\")\n",
    "plt.axis((i0 - 0.5, i1 - 0.5, j0 - 0.5, j1 - 0.5));"
   ]
  },
  {
   "cell_type": "markdown",
   "metadata": {},
   "source": [
    "## Trajectories\n",
    "\n",
    "A trajectory is the time series of particle positions for a given particle.\n",
    "The standard output format of LADiM optimizes access to particle distributions at\n",
    "a given time. Extracting trajectories is possible, but may be slow. "
   ]
  },
  {
   "cell_type": "code",
   "execution_count": null,
   "metadata": {},
   "outputs": [],
   "source": [
    "# Extract some trajectoris\n",
    "\n",
    "trajs = []\n",
    "for pid in range(10, pf.num_particles, 20):\n",
    "    trajs.append(pf.trajectory(pid))"
   ]
  },
  {
   "cell_type": "code",
   "execution_count": null,
   "metadata": {},
   "outputs": [],
   "source": [
    "# Plot the trajectories\n",
    "\n",
    "# Plot background land mask\n",
    "# plt.pcolormesh(Xb, Yb, M, cmap=[0.2, 0.6, 0.4])\n",
    "plt.fill(Xcoast, Ycoast, color=[0.2, 0.6, 0.4])\n",
    "# Plot the trajectories\n",
    "for traj in trajs:\n",
    "    # plt.plot(traj.X, traj.Y, color='red', linewidth=0.5)\n",
    "    plt.plot(traj.X, traj.Y, linewidth=0.5)\n",
    "    # Highlight start position\n",
    "    plt.plot(traj.X[0], traj.Y[0], \"ko\", markersize=1)\n",
    "\n",
    "# Aspect ratio\n",
    "plt.axis(\"image\")\n",
    "plt.axis((50, 150, 50, 140))"
   ]
  },
  {
   "cell_type": "code",
   "execution_count": null,
   "metadata": {},
   "outputs": [],
   "source": []
  }
 ],
 "metadata": {
  "kernelspec": {
   "display_name": "Python 3 (ipykernel)",
   "language": "python",
   "name": "python3"
  },
  "language_info": {
   "codemirror_mode": {
    "name": "ipython",
    "version": 3
   },
   "file_extension": ".py",
   "mimetype": "text/x-python",
   "name": "python",
   "nbconvert_exporter": "python",
   "pygments_lexer": "ipython3",
   "version": "3.10.8"
  }
 },
 "nbformat": 4,
 "nbformat_minor": 2
}
