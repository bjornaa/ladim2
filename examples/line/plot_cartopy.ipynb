{
 "cells": [
  {
   "cell_type": "markdown",
   "id": "disciplinary-gnome",
   "metadata": {},
   "source": [
    "# Map plot examples\n",
    "\n",
    "LADiM may output geographical coordinates, longitude and latitude. \n",
    "These variables is not part of the output in this example.\n",
    "Instead the ROMS fields `lon_rho` and `lat_rho` can be used to compute\n",
    "these coordinates in postprocessing."
   ]
  },
  {
   "cell_type": "code",
   "execution_count": null,
   "id": "damaged-ability",
   "metadata": {},
   "outputs": [],
   "source": [
    "# Imports\n",
    "\n",
    "import cartopy.crs as ccrs\n",
    "import cartopy.feature as cfeature\n",
    "import matplotlib.path as mpath\n",
    "import matplotlib.pyplot as plt\n",
    "import numpy as np\n",
    "import shapely.wkb as wkb\n",
    "import xarray as xr\n",
    "from postladim import ParticleFile"
   ]
  },
  {
   "cell_type": "markdown",
   "id": "relevant-alignment",
   "metadata": {},
   "source": [
    "### Settings"
   ]
  },
  {
   "cell_type": "code",
   "execution_count": null,
   "id": "outstanding-entrance",
   "metadata": {},
   "outputs": [],
   "source": [
    "# Files\n",
    "particle_file = \"out.nc\"\n",
    "grid_file = \"../data/ocean_avg_0014.nc\"\n",
    "\n",
    "# Time step\n",
    "t = 48  # 6 days (3 hours between output)"
   ]
  },
  {
   "cell_type": "markdown",
   "id": "periodic-teach",
   "metadata": {},
   "source": [
    "### Particle data to longitude and latitude\n",
    "\n",
    "As longitude and latitude is not containes in the particle file\n",
    "it has to be converted from the X and Y coordinates.\n",
    "This can be done in several ways.\n",
    "It can be calculated directly if the map projection of the grid is explicitly known.\n",
    "Or the `xy2ll` method of the ladim Grid class.\n",
    "Since the grid file has the lon and lat fields it can be done by bilinear \n",
    "interpolation, available as the `interp` method in `xarray`."
   ]
  },
  {
   "cell_type": "code",
   "execution_count": null,
   "id": "ecological-width",
   "metadata": {},
   "outputs": [],
   "source": [
    "# Read the particle file\n",
    "\n",
    "with ParticleFile(particle_file) as pf:\n",
    "    X, Y = pf.position(t)"
   ]
  },
  {
   "cell_type": "code",
   "execution_count": null,
   "id": "exact-threat",
   "metadata": {},
   "outputs": [],
   "source": [
    "# Read the grid file\n",
    "\n",
    "grid = xr.load_dataset(grid_file)"
   ]
  },
  {
   "cell_type": "code",
   "execution_count": null,
   "id": "critical-morris",
   "metadata": {},
   "outputs": [],
   "source": [
    "# Use interp in xarray for the interpolation\n",
    "\n",
    "Lon = grid.lon_rho.interp(xi_rho=X, eta_rho=Y)\n",
    "Lat = grid.lat_rho.interp(xi_rho=X, eta_rho=Y)"
   ]
  },
  {
   "cell_type": "markdown",
   "id": "unlimited-joining",
   "metadata": {},
   "source": [
    "### Coast file\n",
    "\n",
    "A coast file should be available in the latlon example.\n",
    "If it is not available, run `python makecoast.py` in that directory to create the file."
   ]
  },
  {
   "cell_type": "code",
   "execution_count": null,
   "id": "signal-above",
   "metadata": {},
   "outputs": [],
   "source": [
    "# Read the coast file\n",
    "\n",
    "coast_file = \"../latlon/coast.wkb\"\n",
    "with open(coast_file, mode=\"rb\") as fid:\n",
    "    mpoly = wkb.load(fid)"
   ]
  },
  {
   "cell_type": "markdown",
   "id": "exclusive-stewart",
   "metadata": {},
   "source": [
    "Without mapping software, the data can be plotted in lon–lat space. \n",
    "This is the PlateCarree projection in Cartopy terminology"
   ]
  },
  {
   "cell_type": "code",
   "execution_count": null,
   "id": "assisted-tonight",
   "metadata": {},
   "outputs": [],
   "source": [
    "# Plot land\n",
    "for p in mpoly.geoms:\n",
    "    v = p.boundary.coords.xy\n",
    "    plt.fill(*v, color=\"LightGreen\", edgecolor=\"black\")\n",
    "\n",
    "# Plot the particle distribution\n",
    "plt.plot(Lon, Lat, \"r.\")\n",
    "\n",
    "# Limit the map extent\n",
    "plt.axis((-5, 12, 55, 61));"
   ]
  },
  {
   "cell_type": "markdown",
   "id": "incorporated-decrease",
   "metadata": {},
   "source": [
    "### Use cartopy for real map projections\n",
    "\n",
    "Use cartopy to provide the plot in Mercator projection to ensure orthogonality. \n",
    "For an one-off plot, land feature can be added by:\n",
    "```python\n",
    "   ax.add_feature(cfeature.GSHHSFeature(scale=\"i\"))\n",
    "```\n",
    "For more plots from the same (or similar) domain, precomputing a coast line for \n",
    "the modell domain saves a lot of time."
   ]
  },
  {
   "cell_type": "code",
   "execution_count": null,
   "id": "unsigned-liabilities",
   "metadata": {
    "scrolled": true
   },
   "outputs": [],
   "source": [
    "# Mercator projection\n",
    "\n",
    "# Geographical extent\n",
    "lon0, lon1, lat0, lat1 = -4, 12, 55, 61\n",
    "\n",
    "# Projections\n",
    "lonlat = ccrs.PlateCarree()\n",
    "proj = ccrs.Mercator()\n",
    "ax = plt.axes(projection=proj)\n",
    "ax.set_extent([lon0, lon1, lat0, lat1], lonlat)\n",
    "\n",
    "# Add land feature\n",
    "coast = cfeature.ShapelyFeature(mpoly, crs=lonlat, facecolor=\"LightGreen\")\n",
    "ax.add_feature(coast)\n",
    "\n",
    "# Add graticule\n",
    "ax.gridlines(\n",
    "    xlocs=range(lon0, lon1 + 2, 2), ylocs=range(lat0, lat1 + 1), draw_labels=True\n",
    ")\n",
    "\n",
    "# Plot the particles\n",
    "ax.plot(Lon, Lat, \".\", color=\"red\", transform=lonlat);"
   ]
  },
  {
   "cell_type": "markdown",
   "id": "statewide-activity",
   "metadata": {},
   "source": [
    "#### Polar Stereographic\n",
    "\n",
    "Also added bottom topography from the ocean model"
   ]
  },
  {
   "cell_type": "code",
   "execution_count": null,
   "id": "alpha-palestine",
   "metadata": {},
   "outputs": [],
   "source": [
    "# Geographical extent\n",
    "lon0, lon1, lat0, lat1 = -4, 10, 55, 61\n",
    "\n",
    "# Projections\n",
    "lonlat = ccrs.PlateCarree()\n",
    "proj = ccrs.NorthPolarStereo(central_longitude=0.5 * (lon0 + lon1))\n",
    "ax = plt.axes(projection=proj)\n",
    "ax.set_extent([lon0, lon1, lat0, lat1], lonlat)\n",
    "\n",
    "# Add land feature\n",
    "coast = cfeature.ShapelyFeature(mpoly, crs=lonlat, facecolor=\"LightGreen\")\n",
    "ax.add_feature(coast)\n",
    "\n",
    "# Add bottom topography\n",
    "levels = [25, 50, 100, 250, 500, 1000, 2500]\n",
    "plt.contourf(\n",
    "    grid.lon_rho,\n",
    "    grid.lat_rho,\n",
    "    np.log(grid.h),\n",
    "    levels=np.log(levels),\n",
    "    cmap=\"Blues\",\n",
    "    alpha=0.8,\n",
    "    transform=lonlat,\n",
    ")\n",
    "\n",
    "\n",
    "# Add graticule\n",
    "ax.gridlines(\n",
    "    xlocs=range(lon0, lon1 + 2, 2),\n",
    "    ylocs=range(lat0, lat1 + 1),\n",
    "    draw_labels=True,\n",
    "    y_inline=False,\n",
    ")\n",
    "\n",
    "# Plot the particles\n",
    "ax.plot(Lon, Lat, \".\", color=\"red\", transform=lonlat);"
   ]
  },
  {
   "cell_type": "markdown",
   "id": "supposed-beauty",
   "metadata": {},
   "source": [
    "#### Wedge-shaped Polar Stereographic\n",
    "\n",
    "It is possible to use non-rectangular boundary for the map."
   ]
  },
  {
   "cell_type": "code",
   "execution_count": null,
   "id": "relative-version",
   "metadata": {},
   "outputs": [],
   "source": [
    "# Geographical extent\n",
    "lon0, lon1, lat0, lat1 = -4, 10, 55, 61\n",
    "\n",
    "# Projections\n",
    "lonlat = ccrs.PlateCarree()\n",
    "proj = ccrs.NorthPolarStereo(central_longitude=0.5 * (lon0 + lon1))\n",
    "ax = plt.axes(projection=proj)\n",
    "# Go slightly south of lat0 to make room for curved botto,\n",
    "ax.set_extent([lon0, lon1, lat0 - 0.5, lat1], lonlat)\n",
    "\n",
    "# Set up a wedge-shaped boundary\n",
    "res = 20\n",
    "south = proj.transform_points(\n",
    "    lonlat, np.linspace(lon0, lon1, res), np.array(res * [lat0])\n",
    ")\n",
    "north = proj.transform_points(\n",
    "    lonlat, np.linspace(lon1, lon0, res), np.array(res * [lat1])\n",
    ")\n",
    "boundary = np.vstack((north[:, :2], south[:, :2]))\n",
    "ax.set_boundary(mpath.Path(boundary), transform=proj)\n",
    "\n",
    "# Add land feature\n",
    "coast = cfeature.ShapelyFeature(mpoly, crs=lonlat, facecolor=\"LightGreen\")\n",
    "ax.add_feature(coast)\n",
    "\n",
    "# Add bottom topography\n",
    "levels = [25, 50, 100, 250, 500, 1000, 2500]\n",
    "plt.contourf(\n",
    "    grid.lon_rho,\n",
    "    grid.lat_rho,\n",
    "    np.log(grid.h),\n",
    "    levels=np.log(levels),\n",
    "    cmap=\"Blues\",\n",
    "    alpha=0.8,\n",
    "    transform=lonlat,\n",
    ")\n",
    "\n",
    "# Add graticule\n",
    "ax.gridlines(\n",
    "    xlocs=range(lon0, lon1 + 2, 2),\n",
    "    ylocs=range(lat0, lat1 + 1),\n",
    "    draw_labels=True,\n",
    "    y_inline=False,\n",
    ")\n",
    "\n",
    "# Plot the particles\n",
    "ax.plot(Lon, Lat, \".\", color=\"red\", transform=lonlat);"
   ]
  },
  {
   "cell_type": "markdown",
   "id": "moderate-medium",
   "metadata": {},
   "source": [
    "### Map tiles as background\n",
    "\n",
    "\n",
    "Use map tiles from [Open Street Map](https://openstreetmap.org) (OSM) or [Stamen](https://maps.stamen.com).\n"
   ]
  },
  {
   "cell_type": "code",
   "execution_count": null,
   "id": "corporate-recruitment",
   "metadata": {},
   "outputs": [],
   "source": [
    "# Need cartopy images tiles support\n",
    "import cartopy.io.img_tiles as cimgt\n",
    "\n",
    "# Choose Stamen og Open Street Map\n",
    "background = cimgt.Stamen(\"terrain-background\")\n",
    "# background = cimgt.OSM()\n",
    "\n",
    "# Make the figure larger\n",
    "plt.figure(figsize=(8, 6))\n",
    "\n",
    "# Use the tile's projection.\n",
    "ax = plt.axes(projection=background.crs)\n",
    "\n",
    "# Map extent\n",
    "ax.set_extent([lon0, lon1, lat0, lat1])\n",
    "\n",
    "# Map background, zoom level 5\n",
    "ax.add_image(background, 5)\n",
    "\n",
    "# Add bottom topography\n",
    "levels = [25, 50, 100, 250, 500, 1000, 2500]\n",
    "plt.contourf(\n",
    "    grid.lon_rho,\n",
    "    grid.lat_rho,\n",
    "    np.log(grid.h),\n",
    "    levels=np.log(levels),\n",
    "    cmap=\"Blues\",\n",
    "    alpha=0.8,\n",
    "    transform=ccrs.PlateCarree(),\n",
    ")\n",
    "\n",
    "# Add grid lines\n",
    "ax.gridlines(\n",
    "    xlocs=[0, 4, 8], ylocs=[56, 58, 60], draw_labels=True, linestyle=\":\", color=\"blue\"\n",
    ")\n",
    "\n",
    "# Plot the particles\n",
    "plt.plot(Lon, Lat, \"r.\", transform=ccrs.Geodetic());"
   ]
  },
  {
   "cell_type": "code",
   "execution_count": null,
   "id": "informational-peter",
   "metadata": {},
   "outputs": [],
   "source": []
  },
  {
   "cell_type": "code",
   "execution_count": null,
   "id": "annual-jacksonville",
   "metadata": {},
   "outputs": [],
   "source": []
  }
 ],
 "metadata": {
  "kernelspec": {
   "display_name": "Python 3 (ipykernel)",
   "language": "python",
   "name": "python3"
  },
  "language_info": {
   "codemirror_mode": {
    "name": "ipython",
    "version": 3
   },
   "file_extension": ".py",
   "mimetype": "text/x-python",
   "name": "python",
   "nbconvert_exporter": "python",
   "pygments_lexer": "ipython3",
   "version": "3.10.8"
  }
 },
 "nbformat": 4,
 "nbformat_minor": 5
}
