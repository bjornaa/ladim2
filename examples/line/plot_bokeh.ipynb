{
 "cells": [
  {
   "cell_type": "markdown",
   "id": "4baabbd8",
   "metadata": {},
   "source": [
    "# Plotting with bokeh"
   ]
  },
  {
   "cell_type": "code",
   "execution_count": null,
   "id": "33313fc9",
   "metadata": {},
   "outputs": [],
   "source": [
    "# General imports\n",
    "\n",
    "import numpy as np\n",
    "from netCDF4 import Dataset\n",
    "from postladim import ParticleFile"
   ]
  },
  {
   "cell_type": "code",
   "execution_count": null,
   "id": "f48ed380",
   "metadata": {},
   "outputs": [],
   "source": [
    "# Bokeh imports\n",
    "\n",
    "import bokeh\n",
    "from bokeh.models.mappers import LogColorMapper\n",
    "from bokeh.plotting import figure, show\n",
    "\n",
    "# Notebook display\n",
    "bokeh.io.output_notebook()"
   ]
  },
  {
   "cell_type": "code",
   "execution_count": null,
   "id": "0801bab9",
   "metadata": {},
   "outputs": [],
   "source": [
    "# Files\n",
    "particle_file = \"out.nc\"\n",
    "grid_file = \"../data/ocean_avg_0014.nc\"\n",
    "\n",
    "# Time step\n",
    "t = 48  # 6 days (3 hours between output)"
   ]
  },
  {
   "cell_type": "code",
   "execution_count": null,
   "id": "ede8f9af",
   "metadata": {},
   "outputs": [],
   "source": [
    "# Read the particle_file\n",
    "\n",
    "# Bokeh does not handle xarray DataArray, take values to make numpy array.\n",
    "with ParticleFile(particle_file) as pf:\n",
    "    X = pf.X[t].values\n",
    "    Y = pf.Y[t].values"
   ]
  },
  {
   "cell_type": "code",
   "execution_count": null,
   "id": "c323e072",
   "metadata": {},
   "outputs": [],
   "source": [
    "p = figure(height=400, width=600, background_fill_color=\"skyblue\", match_aspect=True)\n",
    "p.circle(X, Y, color=\"red\")\n",
    "show(p)"
   ]
  },
  {
   "cell_type": "code",
   "execution_count": null,
   "id": "5ca216d8",
   "metadata": {},
   "outputs": [],
   "source": [
    "# Read bottom topography and land mask\n",
    "with Dataset(grid_file) as nc:\n",
    "    H = nc.variables[\"h\"][:, :]\n",
    "    mask = nc.variables[\"mask_rho\"][:, :]\n",
    "jmax, imax = mask.shape"
   ]
  },
  {
   "cell_type": "code",
   "execution_count": null,
   "id": "6469dcda",
   "metadata": {},
   "outputs": [],
   "source": [
    "scale = 3\n",
    "\n",
    "p = figure(match_aspect=True)\n",
    "p.image(\n",
    "    image=[mask],\n",
    "    x=-0.5,\n",
    "    y=-0.5,\n",
    "    dw=imax,\n",
    "    dh=jmax,\n",
    "    palette=[\"Olive\", \"Skyblue\"],\n",
    "    # level=\"image\",\n",
    ")\n",
    "p.circle(X, Y, color=\"red\")\n",
    "\n",
    "show(p)"
   ]
  },
  {
   "cell_type": "code",
   "execution_count": null,
   "id": "315708b5",
   "metadata": {},
   "outputs": [],
   "source": [
    "# Zoom to a subgrid with correct aspect ratio and user coordinates\n",
    "# Turns off box zoom as it may destroy the aspect ratio\n",
    "\n",
    "i0, i1, j0, j1 = 30, 160, 60, 120\n",
    "scale = 4\n",
    "\n",
    "p = figure(\n",
    "    x_range=(i0 - 0.5, i1 - 0.5),\n",
    "    y_range=(j0 - 0.5, j1 - 0.5),\n",
    "    frame_width=scale * (i1 - i0),\n",
    "    frame_height=scale * (j1 - j0),\n",
    "    tools=\"pan, wheel_zoom, reset, save\",\n",
    ")\n",
    "\n",
    "p.image(\n",
    "    image=[mask],\n",
    "    x=-0.5,\n",
    "    y=-0.5,\n",
    "    dw=imax,\n",
    "    dh=jmax,\n",
    "    palette=[\"Olive\", \"Skyblue\"],\n",
    "    # level=\"image\",\n",
    ")\n",
    "p.circle(X, Y, color=\"red\")\n",
    "\n",
    "show(p)"
   ]
  },
  {
   "cell_type": "code",
   "execution_count": null,
   "id": "fc8e528f",
   "metadata": {},
   "outputs": [],
   "source": [
    "scale = 3\n",
    "p = figure(\n",
    "    x_range=(-0.5, imax - 0.5),\n",
    "    y_range=(-0.5, jmax - 0.5),\n",
    "    frame_width=scale * imax,\n",
    "    frame_height=scale * jmax,\n",
    ")\n",
    "\n",
    "# Set land values of bathymetry to nan\n",
    "H = np.where(mask > 0, H, np.nan)\n",
    "\n",
    "# Define a blue color map with darker values at depth, Blues256 reversed.\n",
    "# The map is logarithmic to show details in the shallow North Sea\n",
    "cmap = LogColorMapper(palette=bokeh.palettes.Blues256[::-1])\n",
    "# Set land color\n",
    "cmap.nan_color = \"Olive\"\n",
    "\n",
    "p.image(\n",
    "    image=[H],\n",
    "    x=-0.5,\n",
    "    y=-0.5,\n",
    "    dw=imax,\n",
    "    dh=jmax,\n",
    "    color_mapper=cmap,\n",
    ")\n",
    "\n",
    "# Display the particle positions\n",
    "p.circle(X, Y, color=\"red\")\n",
    "\n",
    "show(p)"
   ]
  },
  {
   "cell_type": "code",
   "execution_count": null,
   "id": "95f1ac55",
   "metadata": {},
   "outputs": [],
   "source": []
  },
  {
   "cell_type": "markdown",
   "id": "51bb6844",
   "metadata": {},
   "source": []
  }
 ],
 "metadata": {
  "kernelspec": {
   "display_name": "Python 3 (ipykernel)",
   "language": "python",
   "name": "python3"
  },
  "language_info": {
   "codemirror_mode": {
    "name": "ipython",
    "version": 3
   },
   "file_extension": ".py",
   "mimetype": "text/x-python",
   "name": "python",
   "nbconvert_exporter": "python",
   "pygments_lexer": "ipython3",
   "version": "3.10.8"
  },
  "vscode": {
   "interpreter": {
    "hash": "0cd49a23b9f07700bb5a042500fd30d6385c40c9eb5c9099a2a36081fe566550"
   }
  }
 },
 "nbformat": 4,
 "nbformat_minor": 5
}
