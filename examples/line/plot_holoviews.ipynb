{
 "cells": [
  {
   "cell_type": "markdown",
   "metadata": {},
   "source": [
    "# Plotting particle distributions with holoviews"
   ]
  },
  {
   "cell_type": "code",
   "execution_count": null,
   "metadata": {},
   "outputs": [],
   "source": [
    "import numpy as np\n",
    "\n",
    "# from netCDF4 import Dataset\n",
    "import xarray as xr\n",
    "import holoviews as hv\n",
    "from postladim import ParticleFile\n",
    "\n",
    "hv.extension(\"bokeh\")"
   ]
  },
  {
   "cell_type": "markdown",
   "metadata": {},
   "source": [
    "### Background map\n",
    "\n",
    "Make a background bathymetric map.\n",
    "A simple land representation is given by colouring the land cells in the\n",
    "ROMS file. Take the logarithm of the bathymetry to enhance topographic details\n",
    "in the shallow North Sea."
   ]
  },
  {
   "cell_type": "code",
   "execution_count": null,
   "metadata": {},
   "outputs": [],
   "source": [
    "# Read bathymetry and land mask\n",
    "with xr.open_dataset(\"../data/ocean_avg_0014.nc\") as ds:\n",
    "    H = ds.h  # Bottom topography\n",
    "    M = ds.mask_rho  # Land mask\n",
    "jmax, imax = M.shape\n",
    "H = H.where(M > 0)  # Mask out land\n",
    "M = M.where(M < 1)  # Mask out sea"
   ]
  },
  {
   "cell_type": "code",
   "execution_count": null,
   "metadata": {},
   "outputs": [],
   "source": [
    "# Land image\n",
    "land = hv.Image(data=M, kdims=[\"xi_rho\", \"eta_rho\"], group=\"Land\")\n",
    "\n",
    "# Bathymetry image\n",
    "# Take logarithm to show details in the shallow North Sea\n",
    "topo = hv.Image(data=np.log10(H), kdims=[\"xi_rho\", \"eta_rho\"], group=\"Topo\")\n",
    "\n",
    "background = topo * land"
   ]
  },
  {
   "cell_type": "markdown",
   "metadata": {},
   "source": [
    "### Particle plot function\n",
    "\n",
    "Open the particle file and make a function to make a\n",
    "Scatter element of the particle distribution at a given time step."
   ]
  },
  {
   "cell_type": "code",
   "execution_count": null,
   "metadata": {},
   "outputs": [],
   "source": [
    "pf = ParticleFile(\"out.nc\")\n",
    "\n",
    "\n",
    "def pplot(timestep):\n",
    "    \"\"\"Scatter plot of particle distibution at a given time step\"\"\"\n",
    "    X, Y = pf.position(timestep)\n",
    "    return background * hv.Points((X, Y))"
   ]
  },
  {
   "cell_type": "markdown",
   "metadata": {},
   "source": [
    "### Still images\n",
    "\n",
    "Set a green colour on land and use shades of blue at sea. Show initial\n",
    "and final particle distributions."
   ]
  },
  {
   "cell_type": "code",
   "execution_count": null,
   "metadata": {},
   "outputs": [],
   "source": [
    "%%opts Image.Topo (cmap='blues' alpha=0.7) \n",
    "%%opts Image.Land (cmap=['#509030'])    \n",
    "%%opts Points (color='red')\n",
    "\n",
    "pplot(0) + pplot(pf.num_times-1)  # Initial and final particle distributions"
   ]
  },
  {
   "cell_type": "markdown",
   "metadata": {},
   "source": [
    "### Dynamic map\n",
    "\n",
    "Make a DynamicMap of all the particle distributions. Choose time step with a slider."
   ]
  },
  {
   "cell_type": "code",
   "execution_count": null,
   "metadata": {},
   "outputs": [],
   "source": [
    "%%output size=150\n",
    "%%opts Points (color='red')\n",
    "\n",
    "dmap = hv.DynamicMap(pplot, kdims=['timestep'])\n",
    "dmap.redim.range(timestep=(0, pf.num_times-1))"
   ]
  },
  {
   "cell_type": "code",
   "execution_count": null,
   "metadata": {},
   "outputs": [],
   "source": [
    "# Read in a presaved land contour\n",
    "coast_file = \"coast_grid.npy\"\n",
    "with open(coast_file, \"rb\") as f:\n",
    "    Xcoast = np.load(f)\n",
    "    Ycoast = np.load(f)"
   ]
  },
  {
   "cell_type": "code",
   "execution_count": null,
   "metadata": {},
   "outputs": [],
   "source": [
    "coast = hv.Polygons({\"x\": Xcoast, \"y\": Ycoast})\n",
    "\n",
    "\n",
    "# background2 = topo * coast\n",
    "# topo2 = hv.Image(data=np.log10(H[10:-10,10:-10]), kdims=[\"xi_rho\", \"eta_rho\"])\n",
    "def pplot2(timestep):\n",
    "    \"\"\"Scatter plot of particle distibution at a given time step\"\"\"\n",
    "    X, Y = pf.position(timestep)\n",
    "    return topo * coast * hv.Points((X, Y))"
   ]
  },
  {
   "cell_type": "code",
   "execution_count": null,
   "metadata": {},
   "outputs": [],
   "source": [
    "%%output size=150\n",
    "%%opts Points (color='red')\n",
    "%%opts Polygons (color=\"lightgrey\")\n",
    "dmap = hv.DynamicMap(pplot2, kdims=['timestep'])\n",
    "dmap.redim.range(timestep=(0, pf.num_times-1))"
   ]
  },
  {
   "cell_type": "code",
   "execution_count": null,
   "metadata": {},
   "outputs": [],
   "source": [
    "with xr.open_dataset(\"../data/ocean_avg_0014.nc\") as ds:\n",
    "    H = ds.h  # Bottom topography\n",
    "    M = ds.mask_rho  # Land mask\n",
    "    lon = ds.lon_rho.values\n",
    "    lat = ds.lat_rho.values\n",
    "jmax, imax = M.shape\n",
    "X, Y = np.meshgrid(np.arange(imax), np.arange(jmax))\n",
    "\n",
    "lo, la = 0, 60\n",
    "import scipy\n",
    "\n",
    "np.column_stack((lon.ravel(), lat.ravel()))\n",
    "\n",
    "scipy.interpolate.griddata(\n",
    "    np.column_stack((lon.ravel(), lat.ravel())), Y.ravel(), [lo, la]\n",
    ")"
   ]
  },
  {
   "cell_type": "code",
   "execution_count": null,
   "metadata": {},
   "outputs": [],
   "source": [
    "?scipy.interpolate.griddata"
   ]
  },
  {
   "cell_type": "code",
   "execution_count": null,
   "metadata": {},
   "outputs": [],
   "source": []
  }
 ],
 "metadata": {
  "kernelspec": {
   "display_name": "Python 3 (ipykernel)",
   "language": "python",
   "name": "python3"
  },
  "language_info": {
   "codemirror_mode": {
    "name": "ipython",
    "version": 3
   },
   "file_extension": ".py",
   "mimetype": "text/x-python",
   "name": "python",
   "nbconvert_exporter": "python",
   "pygments_lexer": "ipython3",
   "version": "3.10.8"
  },
  "vscode": {
   "interpreter": {
    "hash": "0cd49a23b9f07700bb5a042500fd30d6385c40c9eb5c9099a2a36081fe566550"
   }
  }
 },
 "nbformat": 4,
 "nbformat_minor": 2
}
